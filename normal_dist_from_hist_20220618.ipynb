{
  "nbformat": 4,
  "nbformat_minor": 0,
  "metadata": {
    "colab": {
      "name": "normal_dist_from_hist_20220618.ipynb",
      "provenance": [],
      "collapsed_sections": [],
      "authorship_tag": "ABX9TyMovkAb80ScLBTWyuNeHB5G",
      "include_colab_link": true
    },
    "kernelspec": {
      "name": "python3",
      "display_name": "Python 3"
    },
    "language_info": {
      "name": "python"
    }
  },
  "cells": [
    {
      "cell_type": "markdown",
      "metadata": {
        "id": "view-in-github",
        "colab_type": "text"
      },
      "source": [
        "<a href=\"https://colab.research.google.com/github/eigeneddie/normal-dist-g-colab/blob/main/normal_dist_from_hist_20220618.ipynb\" target=\"_parent\"><img src=\"https://colab.research.google.com/assets/colab-badge.svg\" alt=\"Open In Colab\"/></a>"
      ]
    },
    {
      "cell_type": "code",
      "execution_count": 5,
      "metadata": {
        "colab": {
          "base_uri": "https://localhost:8080/"
        },
        "id": "JchD8xcWViLh",
        "outputId": "ae10e30a-5e7c-4d8c-e01e-3dc58b9e1c32"
      },
      "outputs": [
        {
          "output_type": "stream",
          "name": "stdout",
          "text": [
            "70\n",
            "150\n",
            "150\n",
            "1.0765714285714285\n",
            "0.2211097551206726\n"
          ]
        }
      ],
      "source": [
        "import numpy as np\n",
        "import matplotlib.pyplot as plt\n",
        "from scipy.stats import norm\n",
        "from scipy.stats import scoreatpercentile\n",
        "import statistics\n",
        "\n",
        "# ====== Data yang diberikan =======\n",
        "# data yang ingin dicari probability \n",
        "# distributionnya dimasukan ke variabel data_bap\n",
        "\n",
        "# some anonymous data I found that might have a normal distribution characteristic.\n",
        "# this data is for an example.\n",
        "data_bap = [1.08,\t1.19,\t0.98,\t1.33,\t1.00,\t0.97,\t0.83,\t1.07,\t1.28,\t1.15,\t0.71,\t0.73,\t0.58,\t0.67,\n",
        "            0.63,\t0.93,\t1.27,\t1.24,\t1.29,\t1.07,\t1.24,\t1.03,\t1.10,\t1.07,\t1.32,\t1.26,\t1.24,\t1.25,\n",
        "            0.99,\t0.89,\t0.89,\t0.82, 1.40,\t0.97,\t0.79,\t1.24,\t1.51,\t1.32,\t1.13, 1.27,\t1.30,\t0.97,\n",
        "            1.33,\t1.23,\t1.42,\t1.38,\t1.14,\t1.42,\t1.12,\t1.22,\t1.29,\t1.12,\t1.38,\t1.03,\t1.01,\t0.77,\t\n",
        "            0.64,\t1.27,\t1.05,\t0.92,\t0.99,\t0.87,\t1.20,\t0.85,\t0.88,\t0.95,\t1.26,\t0.88,\t0.82,\t0.92];\n",
        "# ==================================\n",
        "\n",
        "num_bins = 12\n",
        "min_score = min(data_bap)\n",
        "max_score = max(data_bap)\n",
        "n = 150\n",
        "x_axis = np.arange(min_score, max_score, (max_score-min_score)/n)\n",
        "\n",
        "print(np.size(data_bap))\n",
        "print(n)\n",
        "print(np.size(x_axis))\n",
        "\n",
        "# Calculating mean and standard deviation from given data\n",
        "mean = statistics.mean(data_bap)\n",
        "sd = statistics.stdev(data_bap)\n",
        "\n",
        "mu = mean\n",
        "sigma = sd\n",
        "\n",
        "print(mean)\n",
        "print(sd)"
      ]
    },
    {
      "cell_type": "code",
      "source": [
        "n, bins, patches = plt.hist(data_bap, \n",
        "                            num_bins, \n",
        "                            range = [min_score, max_score],\n",
        "                            rwidth = 6,\n",
        "                            density = 0, \n",
        "                            histtype = 'bar',\n",
        "                            edgecolor = 'black',\n",
        "                            linewidth = '2.3',\n",
        "                            color ='white',\n",
        "                            alpha = 1)\n",
        "\n",
        "# Check percentiles\n",
        "per50th = norm.ppf(0.50,mu,sigma)\n",
        "per90th = norm.ppf(0.90,mu,sigma)\n",
        "per95th = norm.ppf(0.95,mu,sigma)\n",
        "\n",
        "print(per50th)\n",
        "print(per90th)\n",
        "print(per95th)\n",
        "\n",
        "y_axis = np.size(data_bap)*(max_score-min_score)/num_bins*norm.pdf(x_axis, mean, sd)\n",
        "\n",
        "plt.plot(x_axis, y_axis, '--', color = 'black')  \n",
        "plt.xlabel('Total Score')\n",
        "plt.ylabel('Number of Trees')\n",
        "\n",
        "plt.axvline(x=per90th, color='k', linestyle = '-.')\n",
        "plt.axvline(x=per95th, color='k', linestyle = '-.')\n",
        "\n",
        "#plt.grid(True)\n",
        "#plt.legend()\n",
        "plt.show()\n",
        "\n",
        "'''\n",
        "TAMBAHAN REFERENSI\n",
        "\n",
        "a. Some reference for excel\n",
        "----------------------------\n",
        "  https://public.tableau.com/en-us/s/blog/2013/11/fitting-normal-curve-histogram\n",
        "\n",
        "\n",
        "b. Normalized probability dist. function\n",
        "-----------------------------------------\n",
        "  y = ((1 / (np.sqrt(2 * np.pi) * sigma)) *\n",
        "      np.exp(-0.5 * (1 / sigma * (bins - mu))**2))\n",
        "\n",
        "\n",
        "c. Scaled probability dist. funciton to histogram data \n",
        "-------------------------------------------------------\n",
        "  y = y*<data_size>*<bin_size>\n",
        "'''"
      ],
      "metadata": {
        "colab": {
          "base_uri": "https://localhost:8080/",
          "height": 406
        },
        "id": "gRrNPdanlGP_",
        "outputId": "50020e2c-42e7-4242-c7f6-d11bb19713e8"
      },
      "execution_count": 6,
      "outputs": [
        {
          "output_type": "stream",
          "name": "stdout",
          "text": [
            "1.0765714285714285\n",
            "1.3599349814035098\n",
            "1.4402646112360187\n"
          ]
        },
        {
          "output_type": "display_data",
          "data": {
            "text/plain": [
              "<Figure size 432x288 with 1 Axes>"
            ],
            "image/png": "[encoded data removed]"
          },
          "metadata": {
            "needs_background": "light"
          }
        },
        {
          "output_type": "execute_result",
          "data": {
            "text/plain": [
              "'\\nTAMBAHAN REFERENSI\\n\\na. Some reference for excel\\n----------------------------\\n  https://public.tableau.com/en-us/s/blog/2013/11/fitting-normal-curve-histogram\\n\\n\\nb. Normalized probability dist. function\\n-----------------------------------------\\n  y = ((1 / (np.sqrt(2 * np.pi) * sigma)) *\\n      np.exp(-0.5 * (1 / sigma * (bins - mu))**2))\\n\\n\\nc. Scaled probability dist. funciton to histogram data \\n-------------------------------------------------------\\n  y = y*<data_size>*<bin_size>\\n'"
            ],
            "application/vnd.google.colaboratory.intrinsic+json": {
              "type": "string"
            }
          },
          "metadata": {},
          "execution_count": 6
        }
      ]
    }
  ]
}